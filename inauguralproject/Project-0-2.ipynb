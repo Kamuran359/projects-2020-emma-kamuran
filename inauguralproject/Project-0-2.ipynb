{
 "cells": [
  {
   "cell_type": "code",
   "execution_count": 35,
   "metadata": {},
   "outputs": [],
   "source": [
    "import numpy as np\n",
    "import pandas as pd\n",
    "import matplotlib.pyplot as plt\n",
    "from scipy.optimize import optimize\n",
    "from scipy.optimize import minimize"
   ]
  },
  {
   "cell_type": "markdown",
   "metadata": {},
   "source": [
    "# 1)"
   ]
  },
  {
   "cell_type": "code",
   "execution_count": 12,
   "metadata": {},
   "outputs": [],
   "source": [
    "# In order to solve equation 1, a for loop that finds the optimal l and c which maximizes utility is set up\n",
    "\n",
    "def solution_1(v, epsilon, m, w, tau_0, tau_1, kappa):\n",
    "    \n",
    "    # Defining best utility to be a very low number\n",
    "    #This is used later on to maximize utility in the loop\n",
    "    best_utility = -1e9\n",
    "    \n",
    "    # Defining the range for l to be between 0 and 1 with 50 samples\n",
    "    l_range = np.linspace(0,1,50)\n",
    "    for l in l_range:\n",
    "        # Defining x to be the function given in the execise\n",
    "        x = m + w*l - (tau_0*w*l + tau_1*max(w*l - kappa, 0))\n",
    "        # Defining the range for c to be between 0 and x with 50 samples\n",
    "        c_range = np.linspace(0,x,50)\n",
    "        #looping over c\n",
    "        for c in c_range:\n",
    "            utility = np.log(c)-v*(l**(1+1/epsilon))/(1+(1/epsilon))\n",
    "            # maximizing utility to find optimal c and l\n",
    "            if utility > best_utility:\n",
    "                best_utility = utility \n",
    "                c_optimal = c\n",
    "                l_optimal = l\n",
    "    return c_optimal, l_optimal\n",
    "\n",
    "# Solution_1 will now solve equation 1"
   ]
  },
  {
   "cell_type": "markdown",
   "metadata": {},
   "source": [
    "# 2)"
   ]
  },
  {
   "cell_type": "code",
   "execution_count": 13,
   "metadata": {},
   "outputs": [
    {
     "name": "stderr",
     "output_type": "stream",
     "text": [
      "/Users/emma/opt/anaconda3/lib/python3.7/site-packages/ipykernel_launcher.py:18: RuntimeWarning: divide by zero encountered in log\n"
     ]
    }
   ],
   "source": [
    "# Assigning parameters with the given values from the exercise \n",
    "m = 1\n",
    "v = 10\n",
    "epsilon = 0.3\n",
    "tau0 = 0.4\n",
    "tau1 = 0.1\n",
    "kappa = 0.4\n",
    "\n",
    "# Defining w's range to be from 0.5 to 1.5 again with 50 samples\n",
    "w_range = np.linspace(0.5,1.5,50)\n",
    "\n",
    "# Creating empty lists for c and l\n",
    "c_list = []\n",
    "l_list = []\n",
    "\n",
    "# Calling the solution_1 to find the optimal l and c for w in range 0.5 to 1\n",
    "for w in w_range:\n",
    "    c,l = solution_1(v, epsilon, m, w, tau0, tau1, kappa)\n",
    "    # Appending the optmal l and c to the empty lists\n",
    "    c_list.append(c)\n",
    "    l_list.append(l)\n",
    "    \n",
    "# Converting the w array into a list\n",
    "w_range_list = w_range.tolist()\n",
    "\n",
    "\n",
    "\n"
   ]
  },
  {
   "cell_type": "code",
   "execution_count": null,
   "metadata": {},
   "outputs": [],
   "source": []
  },
  {
   "cell_type": "code",
   "execution_count": 14,
   "metadata": {
    "scrolled": true
   },
   "outputs": [
    {
     "data": {
      "text/plain": [
       "[<matplotlib.lines.Line2D at 0x122629690>]"
      ]
     },
     "execution_count": 14,
     "metadata": {},
     "output_type": "execute_result"
    },
    {
     "data": {
      "image/png": "[encoded data removed]",
      "text/plain": [
       "<Figure size 432x288 with 1 Axes>"
      ]
     },
     "metadata": {
      "needs_background": "light"
     },
     "output_type": "display_data"
    }
   ],
   "source": [
    "# Naming the x axis \n",
    "plt.xlabel('w - wage rate') \n",
    "\n",
    "# Naming the y axis \n",
    "plt.ylabel('c - consumption') \n",
    "  \n",
    "# Creating a title \n",
    "plt.title('Consumption by wage rate') \n",
    " \n",
    "# Plotting w on the x axis and c on the y axis\n",
    "plt.plot(w_range_list,c_list)\n"
   ]
  },
  {
   "cell_type": "code",
   "execution_count": 15,
   "metadata": {},
   "outputs": [
    {
     "data": {
      "text/plain": [
       "[<matplotlib.lines.Line2D at 0x1226dc2d0>]"
      ]
     },
     "execution_count": 15,
     "metadata": {},
     "output_type": "execute_result"
    },
    {
     "data": {
      "image/png": "[encoded data removed]",
      "text/plain": [
       "<Figure size 432x288 with 1 Axes>"
      ]
     },
     "metadata": {
      "needs_background": "light"
     },
     "output_type": "display_data"
    }
   ],
   "source": [
    "# Naming the x axis \n",
    "plt.xlabel('w - wage rate') \n",
    "\n",
    "# Naming the y axis \n",
    "plt.ylabel('l - labor supply') \n",
    "  \n",
    "# Creating a title \n",
    "plt.title('Labor supply by wage rate') \n",
    "\n",
    "# Plotting w on the x axis and l on the y axis\n",
    "plt.plot(w_range_list,l_list)"
   ]
  },
  {
   "cell_type": "markdown",
   "metadata": {},
   "source": [
    "# 3)"
   ]
  },
  {
   "cell_type": "code",
   "execution_count": 16,
   "metadata": {},
   "outputs": [],
   "source": [
    "# Drawing w from a uniform distribution within the range of 0.5 to 1.5 and with a population of 10,000\n",
    "\n",
    "w_sample = np.random.uniform(0.5,1.5,size=10000) "
   ]
  },
  {
   "cell_type": "code",
   "execution_count": 17,
   "metadata": {},
   "outputs": [
    {
     "name": "stderr",
     "output_type": "stream",
     "text": [
      "/Users/emma/opt/anaconda3/lib/python3.7/site-packages/ipykernel_launcher.py:18: RuntimeWarning: divide by zero encountered in log\n"
     ]
    }
   ],
   "source": [
    "# Setting tax revenue to be 0\n",
    "T = 0\n",
    "\n",
    "# Setting up a loop to sum over tax revenue for all persons\n",
    "for w in w_sample:\n",
    "    c,l = solution_1(v, epsilon, m, w, tau0, tau1, kappa)\n",
    "\n",
    "    # Here we sum over all tax revenues  \n",
    "    T = T + tau0*w*l + tau1*max(w*l-kappa, 0) \n"
   ]
  },
  {
   "cell_type": "code",
   "execution_count": 73,
   "metadata": {},
   "outputs": [
    {
     "name": "stdout",
     "output_type": "stream",
     "text": [
      "Total tax revenue: 1631.8580657325847\n"
     ]
    }
   ],
   "source": [
    "print(\"Total tax revenue:\", T)"
   ]
  },
  {
   "cell_type": "markdown",
   "metadata": {},
   "source": [
    "# 4)"
   ]
  },
  {
   "cell_type": "code",
   "execution_count": 18,
   "metadata": {},
   "outputs": [
    {
     "name": "stderr",
     "output_type": "stream",
     "text": [
      "/Users/emma/opt/anaconda3/lib/python3.7/site-packages/ipykernel_launcher.py:18: RuntimeWarning: divide by zero encountered in log\n"
     ]
    }
   ],
   "source": [
    "# Setting epsilon to equal 0.1 and repeating the method from question 3\n",
    "epsilon = 0.1\n",
    "T = 0\n",
    "for w in w_sample:\n",
    "    c,l = solution_1(v, epsilon, m, w, tau0, tau1, kappa)\n",
    "    T = T + tau0*w*l + tau1*max(w*l-kappa, 0)\n"
   ]
  },
  {
   "cell_type": "code",
   "execution_count": 19,
   "metadata": {},
   "outputs": [
    {
     "name": "stdout",
     "output_type": "stream",
     "text": [
      "Total tax revenue' 3176.0903449858743\n"
     ]
    }
   ],
   "source": [
    "print(\"Total tax revenue'\", T)"
   ]
  },
  {
   "cell_type": "markdown",
   "metadata": {},
   "source": [
    "# 5)"
   ]
  },
  {
   "cell_type": "code",
   "execution_count": null,
   "metadata": {
    "scrolled": true
   },
   "outputs": [],
   "source": [
    "# Solving the maximazation with a loop takes too much time and therefore the SciPy optimizer is used instead\n",
    "\n",
    "w_sample = np.random.uniform(0.5,1.5,size=10000) \n",
    "\n",
    "# Defining variables as a vectors\n",
    "def revenue(lst):\n",
    "    tau0 = lst[0]\n",
    "    tau1 = lst[1]\n",
    "    kappa = lst[2]\n",
    "    c = np.empty(10000)\n",
    "    l = np.empty(10000)\n",
    "    i = 0\n",
    "    for w in w_sample:\n",
    "        c[i],l[i] = solution_1(v, epsilon, m, w, tau0, tau1, kappa)\n",
    "        i=i+1\n",
    "                \n",
    "    # Setting up the tax revenue as given in the instructions\n",
    "    T = np.sum(tau0*w_sample*l + tau1*np.max(w_sample*l - kappa,0))\n",
    "    return -T\n",
    "# The tax revenue is returned negative.\n",
    "# By making the revenue negative, we can apply the minimize call which will find the optimal tax revenue.\n",
    "\n",
    "\n",
    "# The inital guess is set to be the given values from question 2 and bounds are also set\n",
    "inital_guess = [0.4, 0.1, 0.4]\n",
    "bounds = ((0,1),(0,1),(0,1))\n",
    "\n",
    "result = minimize(revenue, inital_guess, bounds=bounds, method='SLSQP')\n",
    "\n",
    "# Unpacking the solution\n",
    "tau0_sol = result.lst[0]\n",
    "tau1_sol = result.lst[1]\n",
    "kappa_sol = result.lst[2]\n",
    "revenue_sol = revenue\n",
    "print(f'tau0: {tau0_sol*100:.1f}%')\n",
    "print(f'Top bracket labour income tax: {tau1_sol*100:.1f}%')\n",
    "print(f'Cut-off for top labour income: {kappa_sol:.1f}')\n",
    "\n",
    "# Unfortunately it still takes a very long time to run. \n",
    "# We assume that it is done correctly, but that we should have solved question 1 with SciPy instead.\n",
    "# Then it may have taken shorter time, as it is the call of solution_1 which takes time."
   ]
  },
  {
   "cell_type": "markdown",
   "metadata": {},
   "source": []
  },
  {
   "cell_type": "code",
   "execution_count": null,
   "metadata": {},
   "outputs": [],
   "source": []
  }
 ],
 "metadata": {
  "kernelspec": {
   "display_name": "Python 3",
   "language": "python",
   "name": "python3"
  },
  "language_info": {
   "codemirror_mode": {
    "name": "ipython",
    "version": 3
   },
   "file_extension": ".py",
   "mimetype": "text/x-python",
   "name": "python",
   "nbconvert_exporter": "python",
   "pygments_lexer": "ipython3",
   "version": "3.7.4"
  }
 },
 "nbformat": 4,
 "nbformat_minor": 2
}
